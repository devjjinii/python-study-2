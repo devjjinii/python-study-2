{
 "cells": [
  {
   "cell_type": "code",
   "execution_count": 1,
   "metadata": {},
   "outputs": [],
   "source": [
    "import numpy as np\n",
    "import matplotlib.pyplot as plt"
   ]
  },
  {
   "cell_type": "code",
   "execution_count": 6,
   "metadata": {
    "scrolled": true
   },
   "outputs": [
    {
     "data": {
      "image/png": "[encoded data removed]",
      "text/plain": [
       "<Figure size 432x288 with 1 Axes>"
      ]
     },
     "metadata": {
      "needs_background": "light"
     },
     "output_type": "display_data"
    }
   ],
   "source": [
    "label = [\"a\",\"b\",\"c\",\"d\"]\n",
    "index = np.arange(len(label))\n",
    "plt.bar(index, [10,5,20,10])\n",
    "\n",
    "plt.title('my title')\n",
    "plt.xlabel('x-label')\n",
    "plt.ylabel('y-label')\n",
    "plt.xticks(index, label)\n",
    "\n",
    "plt.show()"
   ]
  },
  {
   "cell_type": "code",
   "execution_count": 7,
   "metadata": {},
   "outputs": [],
   "source": [
    "list_data =[('영입', 23),\n",
    " ('시티', 20),\n",
    " ('토트', 19),\n",
    " ('이적', 17),\n",
    " ('맨시티', 17),\n",
    " ('토트넘', 17),\n",
    " ('계약', 16),\n",
    " ('유로', 14),\n",
    " ('8강', 13),\n",
    " ('울버', 10),\n",
    " ('지단', 10),\n",
    " ('감독', 10),\n",
    " ('이유', 9),\n",
    " ('세비야', 9),\n",
    " ('선수', 9),\n",
    " ('리그', 9),\n",
    " ('시즌', 9),\n",
    " ('베일', 8),\n",
    " ('제외', 8),\n",
    " ('유로파리그', 8)]"
   ]
  },
  {
   "cell_type": "code",
   "execution_count": 8,
   "metadata": {},
   "outputs": [],
   "source": [
    "list_string = []\n",
    "list_number = []"
   ]
  },
  {
   "cell_type": "code",
   "execution_count": 10,
   "metadata": {},
   "outputs": [
    {
     "name": "stdout",
     "output_type": "stream",
     "text": [
      "영입 23\n",
      "시티 20\n",
      "토트 19\n",
      "이적 17\n",
      "맨시티 17\n",
      "토트넘 17\n",
      "계약 16\n",
      "유로 14\n",
      "8강 13\n",
      "울버 10\n",
      "지단 10\n",
      "감독 10\n",
      "이유 9\n",
      "세비야 9\n",
      "선수 9\n",
      "리그 9\n",
      "시즌 9\n",
      "베일 8\n",
      "제외 8\n",
      "유로파리그 8\n"
     ]
    }
   ],
   "source": [
    "for a, n in list_data :\n",
    "    print(a,n)\n",
    "    list_string.append(a)\n",
    "    list_number.append(n)"
   ]
  },
  {
   "cell_type": "code",
   "execution_count": 11,
   "metadata": {},
   "outputs": [
    {
     "data": {
      "text/plain": [
       "['영입',\n",
       " '시티',\n",
       " '토트',\n",
       " '이적',\n",
       " '맨시티',\n",
       " '토트넘',\n",
       " '계약',\n",
       " '유로',\n",
       " '8강',\n",
       " '울버',\n",
       " '지단',\n",
       " '감독',\n",
       " '이유',\n",
       " '세비야',\n",
       " '선수',\n",
       " '리그',\n",
       " '시즌',\n",
       " '베일',\n",
       " '제외',\n",
       " '유로파리그']"
      ]
     },
     "execution_count": 11,
     "metadata": {},
     "output_type": "execute_result"
    }
   ],
   "source": [
    "list_string"
   ]
  },
  {
   "cell_type": "code",
   "execution_count": 12,
   "metadata": {},
   "outputs": [
    {
     "data": {
      "text/plain": [
       "[23, 20, 19, 17, 17, 17, 16, 14, 13, 10, 10, 10, 9, 9, 9, 9, 9, 8, 8, 8]"
      ]
     },
     "execution_count": 12,
     "metadata": {},
     "output_type": "execute_result"
    }
   ],
   "source": [
    "list_number"
   ]
  },
  {
   "cell_type": "code",
   "execution_count": null,
   "metadata": {},
   "outputs": [],
   "source": []
  }
 ],
 "metadata": {
  "kernelspec": {
   "display_name": "Python 3",
   "language": "python",
   "name": "python3"
  },
  "language_info": {
   "codemirror_mode": {
    "name": "ipython",
    "version": 3
   },
   "file_extension": ".py",
   "mimetype": "text/x-python",
   "name": "python",
   "nbconvert_exporter": "python",
   "pygments_lexer": "ipython3",
   "version": "3.7.7"
  }
 },
 "nbformat": 4,
 "nbformat_minor": 4
}
