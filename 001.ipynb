{
 "cells": [
  {
   "cell_type": "code",
   "execution_count": 5,
   "metadata": {},
   "outputs": [
    {
     "name": "stdout",
     "output_type": "stream",
     "text": [
      "13\n"
     ]
    }
   ],
   "source": [
    "x = 3\n",
    "y = 10\n",
    "print(x + y)"
   ]
  },
  {
   "cell_type": "code",
   "execution_count": 6,
   "metadata": {},
   "outputs": [
    {
     "data": {
      "text/plain": [
       "'\\nhello world\\n'"
      ]
     },
     "execution_count": 6,
     "metadata": {},
     "output_type": "execute_result"
    }
   ],
   "source": [
    "# hello world\n",
    "'''\n",
    "hello world\n",
    "'''\n"
   ]
  },
  {
   "cell_type": "code",
   "execution_count": 10,
   "metadata": {},
   "outputs": [
    {
     "name": "stdout",
     "output_type": "stream",
     "text": [
      "검색어를 입력하세요 : 파이썬\n",
      "파이썬 학원 리얼 후기!!!\n",
      "https://blog.naver.com/designer_dh?Redirect=Log&logNo=221973235700\n",
      "\n",
      "'파이썬'의 인기가 떨어지면 어떤 개발 언어가 뜨게 될까. - Wishket\n",
      "http://blog.wishket.com/%ED%8C%8C%EC%9D%B4%EC%8D%AC-%EC%9D%B8%EA%B8%B0%EA%B0%80-%EB%96%A8%EC%96%B4%EC%A7%80%EB%A9%B4-%EC%96%B4%EB%96%A4-%EA%B0%9C%EB%B0%9C-%EC%96%B8%EC%96%B4%EA%B0%80-%EB%9C%B0%EA%B9%8C/\n",
      "\n",
      "파이썬 프로그래밍 인강으로 독학했어요\n",
      "https://blog.naver.com/cdh0584?Redirect=Log&logNo=221980303138\n",
      "\n",
      "직장인이라면 꼭 알아야 할 기술, 업무자동화 (엑셀/VBA/파이썬)\n",
      "https://blog.naver.com/fastcampus?Redirect=Log&logNo=221924690201\n",
      "\n",
      "파이썬학원 블라인드에 도전한다!\n",
      "https://iloveihj007.blog.me/221981925268\n",
      "\n",
      "파이썬학원 모든 준비를 마쳤죠!\n",
      "https://blog.naver.com/ragocittemir?Redirect=Log&logNo=221980487009\n",
      "\n",
      "[파이썬 활용] 마우스 자동화 (pyautogui)\n",
      "https://blog.naver.com/mathesis_time?Redirect=Log&logNo=221949811252\n",
      "\n",
      "파이썬학원 진부한 교육은 그만!\n",
      "https://zzang9313.blog.me/221963973542\n",
      "\n",
      "파이썬학원 통해 실력 향상\n",
      "https://blog.naver.com/soonsooya21?Redirect=Log&logNo=221982202688\n",
      "\n",
      "파이썬학원 기초 뼈대를 잡다!\n",
      "https://blog.naver.com/mylove122007?Redirect=Log&logNo=221978367137\n",
      "\n"
     ]
    }
   ],
   "source": [
    "import urllib.request\n",
    "import urllib.parse\n",
    "from bs4 import BeautifulSoup\n",
    "\n",
    "baseUrl = 'https://search.naver.com/search.naver?where=post&sm=tab_jum&query='\n",
    "plusUrl =  input('검색어를 입력하세요 : ')\n",
    "url = baseUrl + urllib.parse.quote_plus(plusUrl)  #인코딩문제\n",
    "\n",
    "html = urllib.request.urlopen(url).read()\n",
    "soup = BeautifulSoup(html, 'html.parser')\n",
    "\n",
    "# print(soup)\n",
    "title = soup.find_all(class_='sh_blog_title')\n",
    "\n",
    "# print(len(title))\n",
    "for i in title:\n",
    "    print(i.attrs['title'])\n",
    "    print(i.attrs['href'])\n",
    "    print()"
   ]
  },
  {
   "cell_type": "code",
   "execution_count": 12,
   "metadata": {},
   "outputs": [
    {
     "name": "stdout",
     "output_type": "stream",
     "text": [
      "8\n"
     ]
    }
   ],
   "source": [
    "def f(x,y):\n",
    "    z = x+ y\n",
    "    return z\n",
    "\n",
    "print(f(3,5))"
   ]
  },
  {
   "cell_type": "code",
   "execution_count": null,
   "metadata": {},
   "outputs": [],
   "source": []
  }
 ],
 "metadata": {
  "kernelspec": {
   "display_name": "Python 3",
   "language": "python",
   "name": "python3"
  },
  "language_info": {
   "codemirror_mode": {
    "name": "ipython",
    "version": 3
   },
   "file_extension": ".py",
   "mimetype": "text/x-python",
   "name": "python",
   "nbconvert_exporter": "python",
   "pygments_lexer": "ipython3",
   "version": "3.8.3"
  }
 },
 "nbformat": 4,
 "nbformat_minor": 4
}
