{
 "cells": [
  {
   "cell_type": "code",
   "execution_count": 1,
   "metadata": {},
   "outputs": [],
   "source": [
    "from konlpy.tag import Kkma"
   ]
  },
  {
   "cell_type": "code",
   "execution_count": 2,
   "metadata": {},
   "outputs": [],
   "source": [
    "kkma = Kkma()"
   ]
  },
  {
   "cell_type": "code",
   "execution_count": 5,
   "metadata": {},
   "outputs": [
    {
     "name": "stdout",
     "output_type": "stream",
     "text": [
      "['네 안녕하세요.', '데브진입니다.']\n"
     ]
    }
   ],
   "source": [
    "print(kkma.sentences(\"네 안녕하세요. 데브진입니다.\"))"
   ]
  },
  {
   "cell_type": "code",
   "execution_count": 6,
   "metadata": {},
   "outputs": [
    {
     "name": "stdout",
     "output_type": "stream",
     "text": [
      "['아버지', '방', '안녕', '컴퓨터', '개발자']\n"
     ]
    }
   ],
   "source": [
    "print(kkma.nouns(\"아버지가 방에 들어가십니다. 안녕 컴퓨터 개발자\"))"
   ]
  },
  {
   "cell_type": "code",
   "execution_count": 7,
   "metadata": {},
   "outputs": [],
   "source": [
    "import collections"
   ]
  },
  {
   "cell_type": "code",
   "execution_count": 8,
   "metadata": {},
   "outputs": [
    {
     "data": {
      "text/plain": [
       "Counter({'가': 3, '나': 1, '다': 2, '라': 2, '마': 1})"
      ]
     },
     "execution_count": 8,
     "metadata": {},
     "output_type": "execute_result"
    }
   ],
   "source": [
    "collections.Counter([\"가\",\"가\",\"나\",\"다\",\"다\",\"라\",\"마\",\"라\",\"가\"])"
   ]
  },
  {
   "cell_type": "code",
   "execution_count": 11,
   "metadata": {},
   "outputs": [
    {
     "name": "stdout",
     "output_type": "stream",
     "text": [
      "가 : 3\n",
      "나 : 1\n",
      "다 : 2\n",
      "라 : 2\n",
      "마 : 1\n"
     ]
    }
   ],
   "source": [
    "for k,v in collections.Counter([\"가\",\"가\",\"나\",\"다\",\"다\",\"라\",\"마\",\"라\",\"가\"]).items():\n",
    "    print(k,\":\" , v)"
   ]
  },
  {
   "cell_type": "code",
   "execution_count": 12,
   "metadata": {},
   "outputs": [
    {
     "name": "stdout",
     "output_type": "stream",
     "text": [
      "['가', '가', '나', '다', '다', '라', '마', '라', '가', '가', '가', '나', '다', '다', '라', '마', '라', '가', '바', '다']\n"
     ]
    }
   ],
   "source": [
    "list_a = [\"가\",\"가\",\"나\",\"다\",\"다\",\"라\",\"마\",\"라\",\"가\"]\n",
    "list_b = [\"가\",\"가\",\"나\",\"다\",\"다\",\"라\",\"마\",\"라\",\"가\",\"바\",\"다\"]\n",
    "list_c = list_a + list_b\n",
    "print(list_c)"
   ]
  },
  {
   "cell_type": "code",
   "execution_count": 15,
   "metadata": {},
   "outputs": [
    {
     "data": {
      "text/plain": [
       "[('가', 6), ('다', 5), ('라', 4)]"
      ]
     },
     "execution_count": 15,
     "metadata": {},
     "output_type": "execute_result"
    }
   ],
   "source": [
    "collections.Counter(list_c).most_common(3)"
   ]
  },
  {
   "cell_type": "code",
   "execution_count": 22,
   "metadata": {},
   "outputs": [],
   "source": [
    "list_sentence = [\n",
    "    \"저는 개발자입니다.\",\n",
    "    \"아버지도 개발자입니다.\",\n",
    "    \"아버지가 방에 들어가신다.\",\n",
    "    \"토익공부중입니다.\",\n",
    "    \"안녕하세요\",\n",
    "    \"공부중입니다. 이직준비중...\"\n",
    "    \n",
    "]"
   ]
  },
  {
   "cell_type": "code",
   "execution_count": 23,
   "metadata": {},
   "outputs": [
    {
     "name": "stdout",
     "output_type": "stream",
     "text": [
      "['저', '개발자']\n",
      "==============================\n",
      "['저', '개발자']\n",
      "['아버', '아버지도', '지도', '개발자']\n",
      "==============================\n",
      "['저', '개발자', '아버', '아버지도', '지도', '개발자']\n",
      "['아버지', '방']\n",
      "==============================\n",
      "['저', '개발자', '아버', '아버지도', '지도', '개발자', '아버지', '방']\n",
      "['토', '토익공부중', '익공', '부중']\n",
      "==============================\n",
      "['저', '개발자', '아버', '아버지도', '지도', '개발자', '아버지', '방', '토', '토익공부중', '익공', '부중']\n",
      "['안녕']\n",
      "==============================\n",
      "['저', '개발자', '아버', '아버지도', '지도', '개발자', '아버지', '방', '토', '토익공부중', '익공', '부중', '안녕']\n",
      "['공부', '공부중', '중', '이직', '이직준비중', '준비']\n",
      "==============================\n",
      "['저', '개발자', '아버', '아버지도', '지도', '개발자', '아버지', '방', '토', '토익공부중', '익공', '부중', '안녕', '공부', '공부중', '중', '이직', '이직준비중', '준비']\n"
     ]
    }
   ],
   "source": [
    "list_result = []\n",
    "\n",
    "for i in list_sentence :\n",
    "#     print(i)\n",
    "    print(kkma.nouns(i))\n",
    "    list_result = list_result + kkma.nouns(i)\n",
    "    print(\"==============================\")\n",
    "    print(list_result)\n"
   ]
  },
  {
   "cell_type": "code",
   "execution_count": 25,
   "metadata": {},
   "outputs": [
    {
     "data": {
      "text/plain": [
       "[('개발자', 2), ('저', 1), ('아버', 1)]"
      ]
     },
     "execution_count": 25,
     "metadata": {},
     "output_type": "execute_result"
    }
   ],
   "source": [
    "collections.Counter(list_result).most_common(3)"
   ]
  },
  {
   "cell_type": "code",
   "execution_count": null,
   "metadata": {},
   "outputs": [],
   "source": []
  }
 ],
 "metadata": {
  "kernelspec": {
   "display_name": "Python 3",
   "language": "python",
   "name": "python3"
  },
  "language_info": {
   "codemirror_mode": {
    "name": "ipython",
    "version": 3
   },
   "file_extension": ".py",
   "mimetype": "text/x-python",
   "name": "python",
   "nbconvert_exporter": "python",
   "pygments_lexer": "ipython3",
   "version": "3.7.7"
  }
 },
 "nbformat": 4,
 "nbformat_minor": 4
}
