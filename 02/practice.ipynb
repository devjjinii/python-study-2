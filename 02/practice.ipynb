{
 "cells": [
  {
   "cell_type": "code",
   "execution_count": 12,
   "metadata": {},
   "outputs": [
    {
     "name": "stdout",
     "output_type": "stream",
     "text": [
      "\n",
      "Results\n",
      "Python Documentation by Version\n",
      "Download Python for Other Platforms\n",
      "Release – Python 2.5.3\n",
      "Python 2.5.4 Release\n",
      "Release – Python 2.5.4\n",
      "Python 2.5.3 Release\n",
      "Python 2.5 Release\n",
      "Python 2.5.2 Release\n",
      "Sunsetting Python 2\n",
      "Python 2.5.1 Release\n",
      "Release – Python 3.1.4\n",
      "Release – Python 2.5.0\n",
      "Release – Python 2.5.2\n",
      "Python 3.1.4 Release\n",
      "Python 3.1.3 Release\n",
      "Release – Python 2.5.1\n",
      "Python 3.2.1 Release\n",
      "Release – Python 2.7.9rc1\n",
      "Python 3.0 Release\n",
      "Python 3.2.5 Release\n"
     ]
    }
   ],
   "source": [
    "from selenium import webdriver\n",
    "from selenium.webdriver.common.keys import Keys\n",
    "import time\n",
    "\n",
    "chromedriver = '../chromedriver'\n",
    "driver = webdriver.Chrome(chromedriver)\n",
    "\n",
    "driver.get('http://www.python.org')\n",
    "assert \"Python\" in driver.title # 없으면 end 있으면 다음문장\n",
    "\n",
    "# search = driver.find_element_by_id(\"id-search-field\")\n",
    "# search.clear()\n",
    "\n",
    "elem = driver.find_element_by_name(\"q\")\n",
    "elem.clear()\n",
    "\n",
    "#키 이벤트 전송\n",
    "elem.send_keys(\"python\")\n",
    "#엔터 입력\n",
    "elem.send_keys(Keys.RETURN)\n",
    "\n",
    "# 검색결과없을때 중단\n",
    "assert \"No results found.\" not in driver.page_source\n",
    "time.sleep(2)\n",
    "\n",
    "h3s = driver.find_elements_by_tag_name(\"h3\")\n",
    "for h3 in h3s :\n",
    "    print(h3.text)\n",
    "\n",
    "#닫기\n",
    "driver.quit()"
   ]
  }
 ],
 "metadata": {
  "kernelspec": {
   "display_name": "Python 3",
   "language": "python",
   "name": "python3"
  },
  "language_info": {
   "codemirror_mode": {
    "name": "ipython",
    "version": 3
   },
   "file_extension": ".py",
   "mimetype": "text/x-python",
   "name": "python",
   "nbconvert_exporter": "python",
   "pygments_lexer": "ipython3",
   "version": "3.7.7"
  }
 },
 "nbformat": 4,
 "nbformat_minor": 4
}
